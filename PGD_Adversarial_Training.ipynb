{
  "nbformat": 4,
  "nbformat_minor": 0,
  "metadata": {
    "colab": {
      "name": "PGD_Adversarial_training.ipynb",
      "provenance": [],
      "machine_shape": "hm",
      "collapsed_sections": []
    },
    "kernelspec": {
      "name": "python3",
      "display_name": "Python 3"
    },
    "language_info": {
      "name": "python"
    },
    "accelerator": "GPU"
  },
  "cells": [
    {
      "cell_type": "code",
      "execution_count": null,
      "metadata": {
        "id": "84w6Izuss4vN"
      },
      "outputs": [],
      "source": [
        "import numpy as np\n",
        "import pandas as pd\n",
        "import matplotlib.pyplot as plt\n",
        "import torch\n",
        "import gc\n",
        "import torch.nn as nn\n",
        "import torch.optim as optim\n",
        "import torch.nn.functional as F\n",
        "import torch.backends.cudnn as cudnn\n",
        "from torch.utils.data import random_split, Dataset, DataLoader\n",
        "\n",
        "import torchvision\n",
        "import torchvision.transforms as transforms\n",
        "\n",
        "import os\n",
        "import csv\n",
        "import copy\n",
        "import cv2 as cv\n",
        "from google.colab import files"
      ]
    },
    {
      "cell_type": "code",
      "source": [
        "# Cloning the repository containing the dataset\n",
        "!git clone https://github.com/NavoditC/Fooled_by_AI.git"
      ],
      "metadata": {
        "colab": {
          "base_uri": "https://localhost:8080/"
        },
        "id": "nzE57U8btLUC",
        "outputId": "7b7988c9-16fc-491b-fbda-4e73c1cb1b5e"
      },
      "execution_count": null,
      "outputs": [
        {
          "output_type": "stream",
          "name": "stdout",
          "text": [
            "fatal: destination path 'Fooled_by_AI' already exists and is not an empty directory.\n"
          ]
        }
      ]
    },
    {
      "cell_type": "code",
      "source": [
        "# Read the data in a dataframe\n",
        "path = 'Fooled_by_AI/images/dataset.csv'\n",
        "column_names = ['images','targets']\n",
        "df = pd.read_csv(path,names=column_names)"
      ],
      "metadata": {
        "id": "06QB4ezPtLXc"
      },
      "execution_count": null,
      "outputs": []
    },
    {
      "cell_type": "code",
      "source": [
        "df.head()"
      ],
      "metadata": {
        "colab": {
          "base_uri": "https://localhost:8080/",
          "height": 206
        },
        "id": "6dQiYrm7d96c",
        "outputId": "f6aa9fb8-f9f7-4d25-a3e4-593d0ae65ea2"
      },
      "execution_count": null,
      "outputs": [
        {
          "output_type": "execute_result",
          "data": {
            "text/plain": [
              "                  images  targets\n",
              "0  images_real_moon0.png        1\n",
              "1  images_real_moon1.png        1\n",
              "2  images_real_moon2.png        1\n",
              "3  images_real_moon3.png        1\n",
              "4  images_real_moon4.png        1"
            ],
            "text/html": [
              "\n",
              "  <div id=\"df-3091cb6b-72cb-417f-a05e-de015f03f29a\">\n",
              "    <div class=\"colab-df-container\">\n",
              "      <div>\n",
              "<style scoped>\n",
              "    .dataframe tbody tr th:only-of-type {\n",
              "        vertical-align: middle;\n",
              "    }\n",
              "\n",
              "    .dataframe tbody tr th {\n",
              "        vertical-align: top;\n",
              "    }\n",
              "\n",
              "    .dataframe thead th {\n",
              "        text-align: right;\n",
              "    }\n",
              "</style>\n",
              "<table border=\"1\" class=\"dataframe\">\n",
              "  <thead>\n",
              "    <tr style=\"text-align: right;\">\n",
              "      <th></th>\n",
              "      <th>images</th>\n",
              "      <th>targets</th>\n",
              "    </tr>\n",
              "  </thead>\n",
              "  <tbody>\n",
              "    <tr>\n",
              "      <th>0</th>\n",
              "      <td>images_real_moon0.png</td>\n",
              "      <td>1</td>\n",
              "    </tr>\n",
              "    <tr>\n",
              "      <th>1</th>\n",
              "      <td>images_real_moon1.png</td>\n",
              "      <td>1</td>\n",
              "    </tr>\n",
              "    <tr>\n",
              "      <th>2</th>\n",
              "      <td>images_real_moon2.png</td>\n",
              "      <td>1</td>\n",
              "    </tr>\n",
              "    <tr>\n",
              "      <th>3</th>\n",
              "      <td>images_real_moon3.png</td>\n",
              "      <td>1</td>\n",
              "    </tr>\n",
              "    <tr>\n",
              "      <th>4</th>\n",
              "      <td>images_real_moon4.png</td>\n",
              "      <td>1</td>\n",
              "    </tr>\n",
              "  </tbody>\n",
              "</table>\n",
              "</div>\n",
              "      <button class=\"colab-df-convert\" onclick=\"convertToInteractive('df-3091cb6b-72cb-417f-a05e-de015f03f29a')\"\n",
              "              title=\"Convert this dataframe to an interactive table.\"\n",
              "              style=\"display:none;\">\n",
              "        \n",
              "  <svg xmlns=\"http://www.w3.org/2000/svg\" height=\"24px\"viewBox=\"0 0 24 24\"\n",
              "       width=\"24px\">\n",
              "    <path d=\"M0 0h24v24H0V0z\" fill=\"none\"/>\n",
              "    <path d=\"M18.56 5.44l.94 2.06.94-2.06 2.06-.94-2.06-.94-.94-2.06-.94 2.06-2.06.94zm-11 1L8.5 8.5l.94-2.06 2.06-.94-2.06-.94L8.5 2.5l-.94 2.06-2.06.94zm10 10l.94 2.06.94-2.06 2.06-.94-2.06-.94-.94-2.06-.94 2.06-2.06.94z\"/><path d=\"M17.41 7.96l-1.37-1.37c-.4-.4-.92-.59-1.43-.59-.52 0-1.04.2-1.43.59L10.3 9.45l-7.72 7.72c-.78.78-.78 2.05 0 2.83L4 21.41c.39.39.9.59 1.41.59.51 0 1.02-.2 1.41-.59l7.78-7.78 2.81-2.81c.8-.78.8-2.07 0-2.86zM5.41 20L4 18.59l7.72-7.72 1.47 1.35L5.41 20z\"/>\n",
              "  </svg>\n",
              "      </button>\n",
              "      \n",
              "  <style>\n",
              "    .colab-df-container {\n",
              "      display:flex;\n",
              "      flex-wrap:wrap;\n",
              "      gap: 12px;\n",
              "    }\n",
              "\n",
              "    .colab-df-convert {\n",
              "      background-color: #E8F0FE;\n",
              "      border: none;\n",
              "      border-radius: 50%;\n",
              "      cursor: pointer;\n",
              "      display: none;\n",
              "      fill: #1967D2;\n",
              "      height: 32px;\n",
              "      padding: 0 0 0 0;\n",
              "      width: 32px;\n",
              "    }\n",
              "\n",
              "    .colab-df-convert:hover {\n",
              "      background-color: #E2EBFA;\n",
              "      box-shadow: 0px 1px 2px rgba(60, 64, 67, 0.3), 0px 1px 3px 1px rgba(60, 64, 67, 0.15);\n",
              "      fill: #174EA6;\n",
              "    }\n",
              "\n",
              "    [theme=dark] .colab-df-convert {\n",
              "      background-color: #3B4455;\n",
              "      fill: #D2E3FC;\n",
              "    }\n",
              "\n",
              "    [theme=dark] .colab-df-convert:hover {\n",
              "      background-color: #434B5C;\n",
              "      box-shadow: 0px 1px 3px 1px rgba(0, 0, 0, 0.15);\n",
              "      filter: drop-shadow(0px 1px 2px rgba(0, 0, 0, 0.3));\n",
              "      fill: #FFFFFF;\n",
              "    }\n",
              "  </style>\n",
              "\n",
              "      <script>\n",
              "        const buttonEl =\n",
              "          document.querySelector('#df-3091cb6b-72cb-417f-a05e-de015f03f29a button.colab-df-convert');\n",
              "        buttonEl.style.display =\n",
              "          google.colab.kernel.accessAllowed ? 'block' : 'none';\n",
              "\n",
              "        async function convertToInteractive(key) {\n",
              "          const element = document.querySelector('#df-3091cb6b-72cb-417f-a05e-de015f03f29a');\n",
              "          const dataTable =\n",
              "            await google.colab.kernel.invokeFunction('convertToInteractive',\n",
              "                                                     [key], {});\n",
              "          if (!dataTable) return;\n",
              "\n",
              "          const docLinkHtml = 'Like what you see? Visit the ' +\n",
              "            '<a target=\"_blank\" href=https://colab.research.google.com/notebooks/data_table.ipynb>data table notebook</a>'\n",
              "            + ' to learn more about interactive tables.';\n",
              "          element.innerHTML = '';\n",
              "          dataTable['output_type'] = 'display_data';\n",
              "          await google.colab.output.renderOutput(dataTable, element);\n",
              "          const docLink = document.createElement('div');\n",
              "          docLink.innerHTML = docLinkHtml;\n",
              "          element.appendChild(docLink);\n",
              "        }\n",
              "      </script>\n",
              "    </div>\n",
              "  </div>\n",
              "  "
            ]
          },
          "metadata": {},
          "execution_count": 4
        }
      ]
    },
    {
      "cell_type": "code",
      "source": [
        "# Reading the csv file which containing the image paths and the steering angle, throttle, brake and speed\n",
        "dataset = []\n",
        "with open('Fooled_by_AI/images/dataset.csv') as csv_file:\n",
        "    csv_reader = csv.reader(csv_file)\n",
        "    next(csv_reader, None) # To skip the first line which contains the column names of the dataframe\n",
        "    for line in csv_reader:\n",
        "        dataset.append(line)"
      ],
      "metadata": {
        "id": "h3bkkhA5zDR7"
      },
      "execution_count": null,
      "outputs": []
    },
    {
      "cell_type": "code",
      "source": [
        "class MyDataset(Dataset):\n",
        "\n",
        "    def __init__(self, samples, transform):\n",
        "        self.samples = samples\n",
        "        self.transform = transform\n",
        "\n",
        "    def __getitem__(self, index):\n",
        "        batch_samples = self.samples[index]\n",
        "        filename = batch_samples[0]\n",
        "        target = int(batch_samples[1])\n",
        "        filepath = 'Fooled_by_AI/images/' + filename.split('/')[-1]\n",
        "        image = cv.imread(filepath)\n",
        "        image = image[60:420,143:513]\n",
        "        image = cv.resize(image,(224,224))\n",
        "        image = self.transform(image)\n",
        "        return image, target\n",
        "      \n",
        "    def __len__(self):\n",
        "        return len(self.samples)"
      ],
      "metadata": {
        "id": "FR_oT3Jn1OM3"
      },
      "execution_count": null,
      "outputs": []
    },
    {
      "cell_type": "code",
      "source": [
        "class Block(nn.Module):\n",
        "    def __init__(self, num_layers, in_channels, out_channels, identity_downsample=None, stride=1):\n",
        "        assert num_layers in [18, 34, 50, 101, 152], \"should be a a valid architecture\"\n",
        "        super(Block, self).__init__()\n",
        "        self.num_layers = num_layers\n",
        "        if self.num_layers > 34:\n",
        "            self.expansion = 4\n",
        "        else:\n",
        "            self.expansion = 1\n",
        "        # ResNet50, 101, and 152 include additional layer of 1x1 kernels\n",
        "        self.conv1 = nn.Conv2d(in_channels, out_channels, kernel_size=1, stride=1, padding=0)\n",
        "        self.bn1 = nn.BatchNorm2d(out_channels)\n",
        "        if self.num_layers > 34:\n",
        "            self.conv2 = nn.Conv2d(out_channels, out_channels, kernel_size=3, stride=stride, padding=1)\n",
        "        else:\n",
        "            # for ResNet18 and 34, connect input directly to (3x3) kernel (skip first (1x1))\n",
        "            self.conv2 = nn.Conv2d(in_channels, out_channels, kernel_size=3, stride=stride, padding=1)\n",
        "        self.bn2 = nn.BatchNorm2d(out_channels)\n",
        "        self.conv3 = nn.Conv2d(out_channels, out_channels * self.expansion, kernel_size=1, stride=1, padding=0)\n",
        "        self.bn3 = nn.BatchNorm2d(out_channels * self.expansion)\n",
        "        self.relu = nn.ReLU()\n",
        "        self.identity_downsample = identity_downsample\n",
        "\n",
        "    def forward(self, x):\n",
        "        identity = x\n",
        "        if self.num_layers > 34:\n",
        "            x = self.conv1(x)\n",
        "            x = self.bn1(x)\n",
        "            x = self.relu(x)\n",
        "        x = self.conv2(x)\n",
        "        x = self.bn2(x)\n",
        "        x = self.relu(x)\n",
        "        x = self.conv3(x)\n",
        "        x = self.bn3(x)\n",
        "\n",
        "        if self.identity_downsample is not None:\n",
        "            identity = self.identity_downsample(identity)\n",
        "\n",
        "        x += identity\n",
        "        x = self.relu(x)\n",
        "        return x\n",
        "\n",
        "\n",
        "class ResNet(nn.Module):\n",
        "    def __init__(self, num_layers, block, image_channels, num_classes):\n",
        "        assert num_layers in [18, 34, 50, 101, 152], f'ResNet{num_layers}: Unknown architecture! Number of layers has ' \\\n",
        "                                                     f'to be 18, 34, 50, 101, or 152 '\n",
        "        super(ResNet, self).__init__()\n",
        "        if num_layers < 50:\n",
        "            self.expansion = 1\n",
        "        else:\n",
        "            self.expansion = 4\n",
        "        if num_layers == 18:\n",
        "            layers = [2, 2, 2, 2]\n",
        "        elif num_layers == 34 or num_layers == 50:\n",
        "            layers = [3, 4, 6, 3]\n",
        "        elif num_layers == 101:\n",
        "            layers = [3, 4, 23, 3]\n",
        "        else:\n",
        "            layers = [3, 8, 36, 3]\n",
        "        self.in_channels = 64\n",
        "        self.conv1 = nn.Conv2d(image_channels, 64, kernel_size=7, stride=2, padding=3)\n",
        "        self.bn1 = nn.BatchNorm2d(64)\n",
        "        self.relu = nn.ReLU()\n",
        "        self.maxpool = nn.MaxPool2d(kernel_size=3, stride=2, padding=1)\n",
        "\n",
        "        # ResNetLayers\n",
        "        self.layer1 = self.make_layers(num_layers, block, layers[0], intermediate_channels=64, stride=1)\n",
        "        self.layer2 = self.make_layers(num_layers, block, layers[1], intermediate_channels=128, stride=2)\n",
        "        self.layer3 = self.make_layers(num_layers, block, layers[2], intermediate_channels=256, stride=2)\n",
        "        self.layer4 = self.make_layers(num_layers, block, layers[3], intermediate_channels=512, stride=2)\n",
        "\n",
        "        self.avgpool = nn.AdaptiveAvgPool2d((1, 1))\n",
        "        self.fc = nn.Linear(512 * self.expansion, num_classes)\n",
        "\n",
        "    def forward(self, x):\n",
        "        x = self.conv1(x)\n",
        "        x = self.bn1(x)\n",
        "        x = self.relu(x)\n",
        "        x = self.maxpool(x)\n",
        "\n",
        "        x = self.layer1(x)\n",
        "        x = self.layer2(x)\n",
        "        x = self.layer3(x)\n",
        "        x = self.layer4(x)\n",
        "\n",
        "        x = self.avgpool(x)\n",
        "        x = x.reshape(x.shape[0], -1)\n",
        "        x = self.fc(x)\n",
        "        return x\n",
        "\n",
        "    def make_layers(self, num_layers, block, num_residual_blocks, intermediate_channels, stride):\n",
        "        layers = []\n",
        "\n",
        "        identity_downsample = nn.Sequential(nn.Conv2d(self.in_channels, intermediate_channels*self.expansion, kernel_size=1, stride=stride),\n",
        "                                            nn.BatchNorm2d(intermediate_channels*self.expansion))\n",
        "        layers.append(block(num_layers, self.in_channels, intermediate_channels, identity_downsample, stride))\n",
        "        self.in_channels = intermediate_channels * self.expansion # 256\n",
        "        for i in range(num_residual_blocks - 1):\n",
        "            layers.append(block(num_layers, self.in_channels, intermediate_channels)) # 256 -> 64, 64*4 (256) again\n",
        "        return nn.Sequential(*layers)\n",
        "\n",
        "\n",
        "def ResNet18(img_channels=3, num_classes=2):\n",
        "    return ResNet(18, Block, img_channels, num_classes)"
      ],
      "metadata": {
        "id": "WK8I4ni2vL2n"
      },
      "execution_count": null,
      "outputs": []
    },
    {
      "cell_type": "code",
      "source": [
        "# Performing train-test split and storing the train and test data\n",
        "total_samples = len(dataset)\n",
        "train_samples = int(0.8*total_samples)\n",
        "test_samples = total_samples - train_samples\n",
        "train_test_lengths = [train_samples,test_samples]\n",
        "train_data, test_data = random_split(dataset, lengths = train_test_lengths)\n",
        "params = {'batch_size': 4, 'shuffle': True, 'num_workers': 2}\n",
        "\n",
        "transform = transforms.Compose([\n",
        "    transforms.ToPILImage(),                            \n",
        "    #transforms.RandomCrop((28, 28), padding=2, pad_if_needed=True, fill=0, padding_mode='constant'), \n",
        "    transforms.ToTensor(),\n",
        "    transforms.Lambda(lambda x: (x / 255.0))\n",
        "])\n",
        "          \n",
        "# Define the transformation to normailize the image such that the pixel intensities lie between 0 and 1\n",
        "training_set = MyDataset(train_data, transform)\n",
        "test_set = MyDataset(test_data, transform)\n",
        "\n",
        "# Define the training and test generator which is called batch-wise during training and testing respectively\n",
        "training_generator = DataLoader(training_set, **params)\n",
        "test_generator = DataLoader(test_set, **params)"
      ],
      "metadata": {
        "id": "tGHvvCfv3paF"
      },
      "execution_count": null,
      "outputs": []
    },
    {
      "cell_type": "code",
      "source": [
        "device = torch.device('cuda:0' if torch.cuda.is_available() else 'cpu')\n",
        "model = ResNet18(img_channels=3, num_classes=2)\n",
        "\n",
        "model.to(device)\n",
        "\n",
        "optimizer = optim.SGD(model.parameters(), lr=0.001, momentum=0.9)\n",
        "criterion = nn.CrossEntropyLoss()"
      ],
      "metadata": {
        "id": "pMoQEzU2qAD2"
      },
      "execution_count": null,
      "outputs": []
    },
    {
      "cell_type": "code",
      "source": [
        "def main(): \n",
        "\n",
        "    count = 0\n",
        "    loss_list = []\n",
        "    epoch_list = []\n",
        "    \n",
        "\n",
        "    num_epoch = 15\n",
        "    for epoch in range(num_epoch):  # loop over the dataset multiple times\n",
        "        epoch_list.append(epoch+1)\n",
        "        running_loss = 0.0\n",
        "        correct = 0\n",
        "        total = 0\n",
        "        loss_epoch = 0.0\n",
        "        c=0\n",
        "        for i, (inputs, labels) in enumerate(training_generator):\n",
        "\n",
        "            torch.cuda.empty_cache()\n",
        "            # get the inputs; data is a list of [inputs, labels]\n",
        "            inputs, labels = inputs.float().to(device), labels.long().to(device)\n",
        "            #inputs = inputs.permute(0,3,1,2)\n",
        "            # zero the parameter gradients\n",
        "            optimizer.zero_grad()\n",
        "\n",
        "            # forward + backward + optimize\n",
        "            outputs = model(inputs)\n",
        "\n",
        "            _, predicted = torch.max(outputs.data, 1)\n",
        "            total += labels.size(0)\n",
        "            correct += (predicted == labels).sum().item()\n",
        "\n",
        "            loss = criterion(outputs, labels)\n",
        "            loss.backward()\n",
        "            optimizer.step()\n",
        "            # print statistics\n",
        "            running_loss += loss.item()\n",
        "            loss_epoch += loss.item()\n",
        "            c+=1\n",
        "            if i % 2000 == 1999:  # print every 2000 mini-batches\n",
        "                print('[%d, %5d] loss: %.3f accuracy: %.3f' %\n",
        "                      (epoch + 1, i + 1, running_loss / 2000, 100*correct/total))\n",
        "                running_loss = 0.0\n",
        "        loss_list.append(loss_epoch/c) \n",
        "\n",
        "    print('Finished Training')\n",
        "\n",
        "\n",
        "\n",
        "    correct = 0\n",
        "    total = 0\n",
        "    with torch.no_grad():\n",
        "        for (inputs, labels) in test_generator:\n",
        "            inputs, labels = inputs.float().to(device), labels.long().to(device)\n",
        "            #inputs = inputs.permute(0,3,1,2)\n",
        "            outputs = model(inputs)\n",
        "            _, predicted = torch.max(outputs.data, 1)\n",
        "            total += labels.size(0)\n",
        "            correct += (predicted == labels).sum().item()\n",
        "    print('Accuracy of the network on the test images: %.3f %%' % (\n",
        "            100 * correct / total))\n",
        "    plt.plot(epoch_list,loss_list)\n",
        "    plt.xlabel(\"Number of epochs\")\n",
        "    plt.ylabel(\"Loss\")\n",
        "    plt.title(\"CNN: Loss vs Number of epochs\")\n",
        "    plt.show()\n",
        "\n",
        "if __name__ == '__main__':\n",
        "\n",
        "  main()"
      ],
      "metadata": {
        "id": "qP4pIjEWqAGu",
        "colab": {
          "base_uri": "https://localhost:8080/",
          "height": 330
        },
        "outputId": "713d4757-6d91-4615-821b-20c63e6227d6"
      },
      "execution_count": null,
      "outputs": [
        {
          "output_type": "stream",
          "name": "stdout",
          "text": [
            "Finished Training\n",
            "Accuracy of the network on the test images: 100.000 %\n"
          ]
        },
        {
          "output_type": "display_data",
          "data": {
            "text/plain": [
              "<Figure size 432x288 with 1 Axes>"
            ],
            "image/png": "[encoded data removed]"
          },
          "metadata": {
            "needs_background": "light"
          }
        }
      ]
    },
    {
      "cell_type": "markdown",
      "source": [
        "Reference: https://niko-gamulin.medium.com/resnet-implementation-with-pytorch-from-scratch-23cf3047cb93"
      ],
      "metadata": {
        "id": "oBOlRWmts9BT"
      }
    }
  ]
}